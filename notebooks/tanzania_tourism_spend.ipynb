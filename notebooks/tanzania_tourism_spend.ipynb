{
  "nbformat": 4,
  "nbformat_minor": 0,
  "metadata": {
    "colab": {
      "name": "Tanzania_Tourism_spend.ipynb",
      "provenance": [],
      "collapsed_sections": []
    },
    "kernelspec": {
      "name": "python3",
      "display_name": "Python 3",
      "language": "python"
    }
  },
  "cells": [
    {
      "cell_type": "code",
      "metadata": {
        "id": "fvgjVHniE1p0"
      },
      "source": [
        "import pandas as pd\n",
        "import numpy as np\n",
        "\n",
        "import os \n",
        "import matplotlib.pyplot as plt \n",
        "from google.colab import drive\n",
        "from lightgbm import LGBMClassifier, LGBMRegressor\n",
        "\n",
        "from random import seed\n",
        "from sklearn import model_selection\n",
        "from sklearn.linear_model import LinearRegression\n",
        "from sklearn.preprocessing import LabelEncoder\n",
        "from sklearn import metrics\n",
        "\n",
        "import warnings\n",
        "warnings.filterwarnings('ignore')"
      ],
      "execution_count": 2,
      "outputs": []
    },
    {
      "cell_type": "code",
      "metadata": {
        "id": "pW7pFOu4FTvT"
      },
      "source": [
        "def set_seed(seed_number):\n",
        "    np.random.seed(seed_number)\n",
        "    seed(seed_number)\n",
        "\n",
        "set_seed(42)"
      ],
      "execution_count": null,
      "outputs": []
    },
    {
      "cell_type": "code",
      "metadata": {
        "id": "4kOAocAnFcI8"
      },
      "source": [
        "path_to_data = \"Zindi/Tanzania_Tourism/\" # Path to `Train.csv`, `Test.csv` and `SampleSubmission.csv` files."
      ],
      "execution_count": null,
      "outputs": []
    },
    {
      "cell_type": "code",
      "metadata": {
        "id": "zCsSw3BIFfOI"
      },
      "source": [
        "def get_root_path(data_path):\n",
        "    drive.mount('/content/gdrive')\n",
        "    root_path = os.path.join('gdrive/My Drive/' + data_path)\n",
        "    return root_path \n",
        "\n",
        "def next_output_file_name(path):\n",
        "    if len(os.walk(path).__next__()[2]) > 0:\n",
        "        next_file = len(os.walk(path).__next__()[2]) + 1\n",
        "    else:\n",
        "        next_file = 1\n",
        "    next_file_name = \"submission_\" + str(next_file) + \".csv\"\n",
        "    return next_file_name"
      ],
      "execution_count": null,
      "outputs": []
    },
    {
      "cell_type": "code",
      "metadata": {
        "id": "NIcqDP-vFsAf"
      },
      "source": [
        "root_path = get_root_path(path_to_data)\n",
        "output_path = os.path.join(root_path, \"output\")\n",
        "\n",
        "train = pd.read_csv(os.path.join(root_path + 'Train.csv'))\n",
        "test = pd.read_csv(os.path.join(root_path + 'Test.csv'))\n",
        "ss = pd.read_csv(os.path.join(root_path + 'SampleSubmission.csv'))\n",
        "\n",
        "display(train.head())\n",
        "display(test.head())\n",
        "display(ss)"
      ],
      "execution_count": null,
      "outputs": []
    },
    {
      "cell_type": "code",
      "metadata": {
        "id": "lo1UYcakHrUA"
      },
      "source": [
        "train_sample = train.shape[0]\n",
        "data = pd.concat([train, test], axis=0)"
      ],
      "execution_count": null,
      "outputs": []
    },
    {
      "cell_type": "code",
      "metadata": {
        "id": "UjFlKCfiH0-A"
      },
      "source": [
        "data.isnull().sum()"
      ],
      "execution_count": null,
      "outputs": []
    },
    {
      "cell_type": "code",
      "metadata": {
        "id": "aGdcTCo1H80G"
      },
      "source": [
        "data['travel_with'] = data['travel_with'].fillna('Alone')\n",
        "data['total_female'] = data['total_female'].fillna(0)\n",
        "data['total_male'] = data['total_male'].fillna(0)\n",
        "data['most_impressing'] = data['most_impressing'].fillna('No comments')"
      ],
      "execution_count": null,
      "outputs": []
    },
    {
      "cell_type": "code",
      "metadata": {
        "id": "5dmFhsvJIfpl"
      },
      "source": [
        "data.isnull().sum()"
      ],
      "execution_count": null,
      "outputs": []
    },
    {
      "cell_type": "code",
      "metadata": {
        "id": "5Mfjb438IjBv"
      },
      "source": [
        "data.head()"
      ],
      "execution_count": null,
      "outputs": []
    },
    {
      "cell_type": "code",
      "metadata": {
        "id": "7z_OdQNqItcT"
      },
      "source": [
        "le_country = LabelEncoder()\n",
        "data['country'] = le_country.fit_transform(data['country'])\n",
        "\n",
        "le_age_group = LabelEncoder()\n",
        "data['age_group'] = le_age_group.fit_transform(data['age_group'])\n",
        "\n",
        "le_travel_with = LabelEncoder()\n",
        "data['travel_with'] = le_travel_with.fit_transform(data['travel_with'])\n",
        "\n",
        "le_purpose = LabelEncoder()\n",
        "data['purpose'] = le_purpose.fit_transform(data['purpose'])\n",
        "\n",
        "le_main_activity = LabelEncoder()\n",
        "data['main_activity'] = le_main_activity.fit_transform(data['main_activity'])\n",
        "\n",
        "le_info_source = LabelEncoder()\n",
        "data['info_source'] = le_info_source.fit_transform(data['info_source'])\n",
        "\n",
        "le_tour_arrangement = LabelEncoder()\n",
        "data['tour_arrangement'] = le_tour_arrangement.fit_transform(data['tour_arrangement'])\n",
        "\n",
        "le_package_transport_int = LabelEncoder()\n",
        "data['package_transport_int'] = le_package_transport_int.fit_transform(data['package_transport_int'])\n",
        "\n",
        "le_package_accomodation = LabelEncoder()\n",
        "data['package_accomodation'] = le_package_accomodation.fit_transform(data['package_accomodation'])\n",
        "\n",
        "le_package_food = LabelEncoder()\n",
        "data['package_food'] = le_package_food.fit_transform(data['package_food'])\n",
        "\n",
        "le_package_transport_tz = LabelEncoder()\n",
        "data['package_transport_tz'] = le_package_transport_tz.fit_transform(data['package_transport_tz'])\n",
        "\n",
        "le_package_sightseeing = LabelEncoder()\n",
        "data['package_sightseeing'] = le_package_sightseeing.fit_transform(data['package_sightseeing'])\n",
        "\n",
        "le_package_guided_tour = LabelEncoder()\n",
        "data['package_guided_tour'] = le_package_guided_tour.fit_transform(data['package_guided_tour'])\n",
        "\n",
        "le_package_insurance = LabelEncoder()\n",
        "data['package_insurance'] = le_package_insurance.fit_transform(data['package_insurance'])\n",
        "\n",
        "le_night_mainland = LabelEncoder()\n",
        "data['night_mainland'] = le_night_mainland.fit_transform(data['night_mainland'])\n",
        "\n",
        "le_night_zanzibar = LabelEncoder()\n",
        "data['night_zanzibar'] = le_night_zanzibar.fit_transform(data['night_zanzibar'])\n",
        "\n",
        "le_payment_mode = LabelEncoder()\n",
        "data['payment_mode'] = le_payment_mode.fit_transform(data['payment_mode'])\n",
        "\n",
        "le_first_trip_tz = LabelEncoder()\n",
        "data['first_trip_tz'] = le_first_trip_tz.fit_transform(data['first_trip_tz'])\n",
        "\n",
        "le_most_impressing = LabelEncoder()\n",
        "data['most_impressing'] = le_most_impressing.fit_transform(data['most_impressing'])"
      ],
      "execution_count": null,
      "outputs": []
    },
    {
      "cell_type": "code",
      "metadata": {
        "id": "dy2xi44bKc86"
      },
      "source": [
        "data.head()"
      ],
      "execution_count": null,
      "outputs": []
    },
    {
      "cell_type": "code",
      "metadata": {
        "id": "sCscBP8MKdcQ"
      },
      "source": [
        "train = data[:train_sample].copy()\n",
        "test = data[train_sample:].copy()"
      ],
      "execution_count": null,
      "outputs": []
    },
    {
      "cell_type": "code",
      "metadata": {
        "id": "ptSNaTkWKnei"
      },
      "source": [
        "display(train.head())\n",
        "test =  test.drop(columns=['total_cost'])\n",
        "display(test.head())"
      ],
      "execution_count": null,
      "outputs": []
    },
    {
      "cell_type": "code",
      "metadata": {
        "id": "LGE_0tU9Ksfg"
      },
      "source": [
        "train[\"kfold\"] = -1\n",
        "splits = 10\n",
        "    \n",
        "train = train.sample(frac=1, random_state=42).reset_index(drop=True)\n",
        "y = train.total_cost.values\n",
        "\n",
        "kf = model_selection.KFold(n_splits=splits)\n",
        "    \n",
        "for f, (t_, v_) in enumerate(kf.split(X=train, y=y)):\n",
        "  train.loc[v_, 'kfold'] = f\n",
        "\n",
        "mae_list = []\n",
        "\n",
        "for fold_ in range(splits):\n",
        "  # temporary dataframes for train and test\n",
        "  train_df = train[train.kfold != fold_].reset_index(drop=True)\n",
        "  test_df = train[train.kfold == fold_].reset_index(drop=True)\n",
        "\n",
        "  model = LGBMRegressor(random_state = 42, num_leaves= 25, max_depth=8, subsample=0.95, boosting_type='dart', num_iterations=200, min_data_in_leaf=10)\n",
        "  model_1 = LinearRegression()\n",
        "  \n",
        "  # model_2 = AdaBoostClassifier(base_estimator = LGBMClassifier(), random_state = 42)\n",
        "  # fit the model on training data and sentiment\n",
        "  model.fit(train_df.drop(columns=['ID', 'kfold', 'total_cost']), train_df.total_cost)\n",
        "    \n",
        "  preds = model.predict(test_df.drop(columns=['ID', 'kfold', 'total_cost']))\n",
        "  # calculate accuracy\n",
        "  mae = metrics.mean_absolute_error(test_df.total_cost, preds)\n",
        "  mae_list.append(mae)\n",
        "  print(f\"Fold: {fold_}\")\n",
        "  print(f\"MAE = {mae}\")\n",
        "\n",
        "  print(\"\")    \n",
        "print(f\"MAE Summary: {np.sum(mae_list)/len(mae_list)}\")    "
      ],
      "execution_count": null,
      "outputs": []
    },
    {
      "cell_type": "code",
      "metadata": {
        "id": "1lZGez3SLkhc"
      },
      "source": [
        "test_preds = model.predict(test.drop(columns=['ID']))\n",
        "test_preds"
      ],
      "execution_count": null,
      "outputs": []
    },
    {
      "cell_type": "code",
      "metadata": {
        "id": "sdRjhA_eOnsD"
      },
      "source": [
        "test['total_cost'] = test_preds\n",
        "test"
      ],
      "execution_count": null,
      "outputs": []
    },
    {
      "cell_type": "code",
      "metadata": {
        "id": "tOB-hTveOvZi"
      },
      "source": [
        "sub_file = test[['ID', 'total_cost']]\n",
        "sub_file.columns = ['test_id', 'total_cost']\n",
        "sub_file"
      ],
      "execution_count": null,
      "outputs": []
    },
    {
      "cell_type": "code",
      "metadata": {
        "id": "NZsk5XXfPKI6"
      },
      "source": [
        "sub_file.to_csv(os.path.join(root_path + 'output/submission_10.csv'), index = False)"
      ],
      "execution_count": null,
      "outputs": []
    },
    {
      "cell_type": "code",
      "metadata": {
        "id": "eGV2Er6jPaMG"
      },
      "source": [],
      "execution_count": null,
      "outputs": []
    }
  ]
}